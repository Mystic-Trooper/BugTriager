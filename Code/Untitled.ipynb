{
 "cells": [
  {
   "cell_type": "code",
   "execution_count": 2,
   "id": "8b64423b",
   "metadata": {},
   "outputs": [],
   "source": [
    "import json\n",
    "import csv\n",
    "import pandas as pd\n",
    "from itertools import chain\n",
    "from collections import Counter\n",
    "from collections import defaultdict"
   ]
  },
  {
   "cell_type": "code",
   "execution_count": 3,
   "id": "4e02fb1a",
   "metadata": {},
   "outputs": [],
   "source": [
    "csv_columns = ['id', 'no.of bugs resolved']\n",
    "resolution_file_json_root_key= 'resolution'\n",
    "resolution_file = open('E:/work/college/major1/BugTriager/Dataset/JSON/resolution.json', encoding=\"utf8\")\n",
    "resolution= json.loads(resolution_file.read())[resolution_file_json_root_key]\n",
    "priority_file_json_root_key= 'priority'\n",
    "priority_file = open('E:/work/college/major1/BugTriager/Dataset/JSON/priority.json', encoding=\"utf8\")\n",
    "priority= json.loads(priority_file.read())[priority_file_json_root_key]"
   ]
  },
  {
   "cell_type": "code",
   "execution_count": 9,
   "id": "7916f980",
   "metadata": {},
   "outputs": [],
   "source": [
    "for id in resolution:\n",
    "    if (resolution[id][-1]['what']==)"
   ]
  },
  {
   "cell_type": "code",
   "execution_count": null,
   "id": "974647d0",
   "metadata": {},
   "outputs": [],
   "source": [
    "mp= dict()\n",
    "for id in resolution:\n",
    "    if(resolution[id][-1]['what']!=\"FIXED\"):\n",
    "        "
   ]
  }
 ],
 "metadata": {
  "kernelspec": {
   "display_name": "Python 3 (ipykernel)",
   "language": "python",
   "name": "python3"
  },
  "language_info": {
   "codemirror_mode": {
    "name": "ipython",
    "version": 3
   },
   "file_extension": ".py",
   "mimetype": "text/x-python",
   "name": "python",
   "nbconvert_exporter": "python",
   "pygments_lexer": "ipython3",
   "version": "3.10.4"
  }
 },
 "nbformat": 4,
 "nbformat_minor": 5
}
